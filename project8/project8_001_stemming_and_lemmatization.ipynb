{
 "cells": [
  {
   "cell_type": "markdown",
   "id": "f78579b7-545c-486e-bb30-6f35c2194393",
   "metadata": {},
   "source": [
    "# NLP: Stemming e Lemmatization\n",
    "\n",
    "Este Notebook explora as técnicas de **Stemming** e **Lemmatization** pro processamento de linguagem natural (NLP). Essas técnicas ajudam a reduzir palavras à sua forma raiz, melhorando análises de texto e modelos de machine learning.\n",
    "\n",
    "## Conteúdo\n",
    "- **Stemming**: Processo de redução de palavras a sua raiz, sem levar em conta o contexto (ex.: \"running\" → \"run\").\n",
    "- **Lemmatization**: Similar ao stemming, mas leva em consideração o contexto e a forma correta da palavra (ex.: \"better\" → \"good\").\n",
    "- Comparativo entre as abordagens com exemplos práticos.\n",
    "\n",
    "\n",
    "## Dependências\n",
    "- Python 3.x\n",
    "- NLTK\n"
   ]
  },
  {
   "cell_type": "code",
   "execution_count": 1,
   "id": "6ed622db-1d35-4763-94ae-71bf20d3c9cb",
   "metadata": {},
   "outputs": [],
   "source": [
    "import nltk"
   ]
  },
  {
   "cell_type": "markdown",
   "id": "cec42019-6025-46ec-b650-aed00007beba",
   "metadata": {},
   "source": [
    "### STEMMING\n",
    "Reduzir as palavras sem levar em conta o contexto"
   ]
  },
  {
   "cell_type": "code",
   "execution_count": 2,
   "id": "3ebb2f76-ce2e-4bfd-a5a4-469ee2b8b3cd",
   "metadata": {},
   "outputs": [],
   "source": [
    "from nltk.stem import PorterStemmer"
   ]
  },
  {
   "cell_type": "code",
   "execution_count": 3,
   "id": "9a7bf5b2-7002-4536-8367-04bb66e6db3c",
   "metadata": {},
   "outputs": [],
   "source": [
    "porter = PorterStemmer()"
   ]
  },
  {
   "cell_type": "code",
   "execution_count": 4,
   "id": "c0bba5e4-5bd6-4ba8-ad94-f1e14e586880",
   "metadata": {},
   "outputs": [
    {
     "data": {
      "text/plain": [
       "'walk'"
      ]
     },
     "execution_count": 4,
     "metadata": {},
     "output_type": "execute_result"
    }
   ],
   "source": [
    "porter.stem('walking')"
   ]
  },
  {
   "cell_type": "code",
   "execution_count": 5,
   "id": "61342232-3e46-4b70-85fe-54ff5eced3e2",
   "metadata": {},
   "outputs": [
    {
     "data": {
      "text/plain": [
       "'walk'"
      ]
     },
     "execution_count": 5,
     "metadata": {},
     "output_type": "execute_result"
    }
   ],
   "source": [
    "porter.stem('walked')"
   ]
  },
  {
   "cell_type": "code",
   "execution_count": 6,
   "id": "ca17d958-c955-472f-8c8b-f9011b364617",
   "metadata": {},
   "outputs": [
    {
     "data": {
      "text/plain": [
       "'walk'"
      ]
     },
     "execution_count": 6,
     "metadata": {},
     "output_type": "execute_result"
    }
   ],
   "source": [
    "porter.stem('walks')"
   ]
  },
  {
   "cell_type": "code",
   "execution_count": 7,
   "id": "f9209b72-fac3-4cdd-b232-72f8f037708d",
   "metadata": {},
   "outputs": [
    {
     "data": {
      "text/plain": [
       "'ran'"
      ]
     },
     "execution_count": 7,
     "metadata": {},
     "output_type": "execute_result"
    }
   ],
   "source": [
    "porter.stem('ran')"
   ]
  },
  {
   "cell_type": "code",
   "execution_count": 8,
   "id": "4181b7af-244e-407b-8eba-1a1c1856f784",
   "metadata": {},
   "outputs": [
    {
     "data": {
      "text/plain": [
       "'run'"
      ]
     },
     "execution_count": 8,
     "metadata": {},
     "output_type": "execute_result"
    }
   ],
   "source": [
    "porter.stem('running')"
   ]
  },
  {
   "cell_type": "code",
   "execution_count": 9,
   "id": "d97687bc-97d9-45eb-a168-2c1282b85733",
   "metadata": {},
   "outputs": [
    {
     "data": {
      "text/plain": [
       "'boss'"
      ]
     },
     "execution_count": 9,
     "metadata": {},
     "output_type": "execute_result"
    }
   ],
   "source": [
    "porter.stem('bosses')"
   ]
  },
  {
   "cell_type": "code",
   "execution_count": 10,
   "id": "619a5380-22c2-4ac9-89db-e27e5d5b601c",
   "metadata": {},
   "outputs": [
    {
     "data": {
      "text/plain": [
       "'replac'"
      ]
     },
     "execution_count": 10,
     "metadata": {},
     "output_type": "execute_result"
    }
   ],
   "source": [
    "porter.stem('replacement')"
   ]
  },
  {
   "cell_type": "code",
   "execution_count": 12,
   "id": "46dce73f-f0c7-43fa-870c-dfd12bb56119",
   "metadata": {},
   "outputs": [
    {
     "data": {
      "text/plain": [
       "['Lemmatization', 'is', 'more', 'sophisticated', 'than', 'stemming']"
      ]
     },
     "execution_count": 12,
     "metadata": {},
     "output_type": "execute_result"
    }
   ],
   "source": [
    "# Vamos gerar uma sentença e aplicar o stemming nela:\n",
    "sentence = 'Lemmatization is more sophisticated than stemming'.split()\n",
    "sentence"
   ]
  },
  {
   "cell_type": "code",
   "execution_count": 14,
   "id": "0c40d4fa-f5f4-4cb3-b23b-c06e7ca5e5f2",
   "metadata": {},
   "outputs": [
    {
     "name": "stdout",
     "output_type": "stream",
     "text": [
      "lemmat is more sophist than stem "
     ]
    }
   ],
   "source": [
    "for token in sentence:\n",
    "    print(porter.stem(token), end=' ')"
   ]
  },
  {
   "cell_type": "code",
   "execution_count": 15,
   "id": "e1f471d9-08a3-4440-aede-f09379265759",
   "metadata": {},
   "outputs": [
    {
     "data": {
      "text/plain": [
       "'uncecessari'"
      ]
     },
     "execution_count": 15,
     "metadata": {},
     "output_type": "execute_result"
    }
   ],
   "source": [
    "# Outros exemplos\n",
    "porter.stem('uncecessary')"
   ]
  },
  {
   "cell_type": "code",
   "execution_count": 16,
   "id": "cba5408f-1875-45c5-8230-6e558a35825c",
   "metadata": {},
   "outputs": [
    {
     "data": {
      "text/plain": [
       "'berri'"
      ]
     },
     "execution_count": 16,
     "metadata": {},
     "output_type": "execute_result"
    }
   ],
   "source": [
    "porter.stem('berry')"
   ]
  },
  {
   "cell_type": "markdown",
   "id": "af0036b1-3dda-4e7f-943d-d04141ec79a6",
   "metadata": {},
   "source": [
    "### Lemmatization\n",
    "Reduzir as palavras levando em consideração o contexto"
   ]
  },
  {
   "cell_type": "code",
   "execution_count": 17,
   "id": "a9d96bb1-c077-4e1c-a80c-acd18fe50a84",
   "metadata": {},
   "outputs": [],
   "source": [
    "from nltk.stem import WordNetLemmatizer"
   ]
  },
  {
   "cell_type": "code",
   "execution_count": 18,
   "id": "fafe1b4b-9592-4477-8e94-21eb6a144ab6",
   "metadata": {},
   "outputs": [
    {
     "name": "stderr",
     "output_type": "stream",
     "text": [
      "[nltk_data] Downloading package wordnet to\n",
      "[nltk_data]     C:\\Users\\Estela\\AppData\\Roaming\\nltk_data...\n"
     ]
    },
    {
     "data": {
      "text/plain": [
       "True"
      ]
     },
     "execution_count": 18,
     "metadata": {},
     "output_type": "execute_result"
    }
   ],
   "source": [
    "nltk.download('wordnet') # modulo para identificar significados das palavras"
   ]
  },
  {
   "cell_type": "code",
   "execution_count": 19,
   "id": "bad6507a-7c2d-4145-8caa-446d0517b4d7",
   "metadata": {},
   "outputs": [],
   "source": [
    "from nltk.corpus import wordnet"
   ]
  },
  {
   "cell_type": "code",
   "execution_count": 20,
   "id": "f6a1628b-c476-40b6-8c0c-fded213c3112",
   "metadata": {},
   "outputs": [],
   "source": [
    "lemmatizer = WordNetLemmatizer()"
   ]
  },
  {
   "cell_type": "code",
   "execution_count": 21,
   "id": "84ee2e55-0732-4c67-b33e-089462306b58",
   "metadata": {},
   "outputs": [
    {
     "data": {
      "text/plain": [
       "'a'"
      ]
     },
     "execution_count": 21,
     "metadata": {},
     "output_type": "execute_result"
    }
   ],
   "source": [
    "lemmatizer.lemmatize('as')"
   ]
  },
  {
   "cell_type": "code",
   "execution_count": 22,
   "id": "cbc9fe15-aee4-4f6a-83f8-7c46f97b841d",
   "metadata": {},
   "outputs": [
    {
     "data": {
      "text/plain": [
       "'walking'"
      ]
     },
     "execution_count": 22,
     "metadata": {},
     "output_type": "execute_result"
    }
   ],
   "source": [
    "lemmatizer.lemmatize('walking')"
   ]
  },
  {
   "cell_type": "code",
   "execution_count": 23,
   "id": "bad927ef-fff0-43ae-8f93-79ddf70290c2",
   "metadata": {},
   "outputs": [
    {
     "data": {
      "text/plain": [
       "'walk'"
      ]
     },
     "execution_count": 23,
     "metadata": {},
     "output_type": "execute_result"
    }
   ],
   "source": [
    "lemmatizer.lemmatize('walking', pos=wordnet.VERB)"
   ]
  },
  {
   "cell_type": "code",
   "execution_count": 24,
   "id": "66213d57-05fa-473b-aa06-c1b07412d501",
   "metadata": {},
   "outputs": [
    {
     "data": {
      "text/plain": [
       "'going'"
      ]
     },
     "execution_count": 24,
     "metadata": {},
     "output_type": "execute_result"
    }
   ],
   "source": [
    "lemmatizer.lemmatize('going')"
   ]
  },
  {
   "cell_type": "code",
   "execution_count": 25,
   "id": "9ae6d8d7-f148-4e1d-a615-276e930a034c",
   "metadata": {},
   "outputs": [
    {
     "data": {
      "text/plain": [
       "'go'"
      ]
     },
     "execution_count": 25,
     "metadata": {},
     "output_type": "execute_result"
    }
   ],
   "source": [
    "lemmatizer.lemmatize('going', pos=wordnet.VERB)"
   ]
  },
  {
   "cell_type": "code",
   "execution_count": 26,
   "id": "7de9e20d-63ad-476a-b946-1017758598ae",
   "metadata": {},
   "outputs": [
    {
     "data": {
      "text/plain": [
       "'run'"
      ]
     },
     "execution_count": 26,
     "metadata": {},
     "output_type": "execute_result"
    }
   ],
   "source": [
    "lemmatizer.lemmatize('ran', pos=wordnet.VERB)"
   ]
  },
  {
   "cell_type": "code",
   "execution_count": 27,
   "id": "98ab8881-a041-4b84-98de-4250dbc875de",
   "metadata": {},
   "outputs": [
    {
     "data": {
      "text/plain": [
       "'mouse'"
      ]
     },
     "execution_count": 27,
     "metadata": {},
     "output_type": "execute_result"
    }
   ],
   "source": [
    "lemmatizer.lemmatize('mice')"
   ]
  },
  {
   "cell_type": "code",
   "execution_count": 28,
   "id": "e8c7eb02-6f91-4eb1-af20-efe36b3c711c",
   "metadata": {},
   "outputs": [
    {
     "data": {
      "text/plain": [
       "'wa'"
      ]
     },
     "execution_count": 28,
     "metadata": {},
     "output_type": "execute_result"
    }
   ],
   "source": [
    "# Comparando Stemming e Lemmatization\n",
    "porter.stem('was')"
   ]
  },
  {
   "cell_type": "code",
   "execution_count": 29,
   "id": "4a26cf61-c30f-4d76-a67f-45a242e191d6",
   "metadata": {},
   "outputs": [
    {
     "data": {
      "text/plain": [
       "'be'"
      ]
     },
     "execution_count": 29,
     "metadata": {},
     "output_type": "execute_result"
    }
   ],
   "source": [
    "lemmatizer.lemmatize('was', pos=wordnet.VERB)"
   ]
  },
  {
   "cell_type": "code",
   "execution_count": 31,
   "id": "88af800a-57a8-4fc9-8099-b910320e3078",
   "metadata": {},
   "outputs": [
    {
     "data": {
      "text/plain": [
       "'is'"
      ]
     },
     "execution_count": 31,
     "metadata": {},
     "output_type": "execute_result"
    }
   ],
   "source": [
    "porter.stem('is')"
   ]
  },
  {
   "cell_type": "code",
   "execution_count": 32,
   "id": "d78abaca-a23d-474b-aeb9-a7090cf31d67",
   "metadata": {},
   "outputs": [
    {
     "data": {
      "text/plain": [
       "'be'"
      ]
     },
     "execution_count": 32,
     "metadata": {},
     "output_type": "execute_result"
    }
   ],
   "source": [
    "lemmatizer.lemmatize('is', pos=wordnet.VERB)"
   ]
  },
  {
   "cell_type": "code",
   "execution_count": 33,
   "id": "e9016a44-1ac0-4efb-968b-bab73fdca645",
   "metadata": {},
   "outputs": [
    {
     "data": {
      "text/plain": [
       "'better'"
      ]
     },
     "execution_count": 33,
     "metadata": {},
     "output_type": "execute_result"
    }
   ],
   "source": [
    "porter.stem('better')"
   ]
  },
  {
   "cell_type": "code",
   "execution_count": 34,
   "id": "5a6db22e-4d46-469d-a775-7490064bb014",
   "metadata": {},
   "outputs": [
    {
     "data": {
      "text/plain": [
       "'good'"
      ]
     },
     "execution_count": 34,
     "metadata": {},
     "output_type": "execute_result"
    }
   ],
   "source": [
    "lemmatizer.lemmatize('better', pos=wordnet.ADJ)"
   ]
  },
  {
   "cell_type": "markdown",
   "id": "db595bd9-71c6-40a1-b116-b033f1238083",
   "metadata": {},
   "source": [
    "### Identificando se a palavra é um sinonimo, verbo, etc. para usar no lemmatizer"
   ]
  },
  {
   "cell_type": "code",
   "execution_count": 35,
   "id": "cc2efc0d-ac55-4b28-b9b6-ba1fdac7a1c4",
   "metadata": {},
   "outputs": [],
   "source": [
    "def get_wordnet_pos(treebank_tag):\n",
    "    if treebank_tag.startswith('J'):\n",
    "        return wordnet.ADJ\n",
    "    elif treebank_tag.startswith('V'):\n",
    "        return wordnet.VERB\n",
    "    elif treebank_tag.startswith('N'):\n",
    "        return wordnet.NOUN\n",
    "    elif treebank_tag.startswith('R'):\n",
    "        return wordnet.ADV\n",
    "    else:\n",
    "        return wordnet.NOUN"
   ]
  },
  {
   "cell_type": "code",
   "execution_count": 37,
   "id": "cc604c71-5b61-43c4-91d1-8b9e072abb4d",
   "metadata": {},
   "outputs": [
    {
     "name": "stderr",
     "output_type": "stream",
     "text": [
      "[nltk_data] Downloading package averaged_perceptron_tagger_eng to\n",
      "[nltk_data]     C:\\Users\\Estela\\AppData\\Roaming\\nltk_data...\n",
      "[nltk_data]   Unzipping taggers\\averaged_perceptron_tagger_eng.zip.\n"
     ]
    },
    {
     "data": {
      "text/plain": [
       "True"
      ]
     },
     "execution_count": 37,
     "metadata": {},
     "output_type": "execute_result"
    }
   ],
   "source": [
    "nltk.download('averaged_perceptron_tagger_eng')"
   ]
  },
  {
   "cell_type": "code",
   "execution_count": 38,
   "id": "8b8cd782-6b55-4cf5-b0be-fa53ac981d3f",
   "metadata": {},
   "outputs": [
    {
     "data": {
      "text/plain": [
       "['Demi', 'Moore', 'has', 'a', 'devoted', 'following']"
      ]
     },
     "execution_count": 38,
     "metadata": {},
     "output_type": "execute_result"
    }
   ],
   "source": [
    "sentence = \"Demi Moore has a devoted following\".split()\n",
    "sentence"
   ]
  },
  {
   "cell_type": "code",
   "execution_count": 40,
   "id": "61ea1ed1-e01c-43dc-98a4-3a272afb04fb",
   "metadata": {},
   "outputs": [
    {
     "data": {
      "text/plain": [
       "[('Demi', 'NNP'),\n",
       " ('Moore', 'NNP'),\n",
       " ('has', 'VBZ'),\n",
       " ('a', 'DT'),\n",
       " ('devoted', 'VBN'),\n",
       " ('following', 'NN')]"
      ]
     },
     "execution_count": 40,
     "metadata": {},
     "output_type": "execute_result"
    }
   ],
   "source": [
    "# Observe que pos_tag identifica o tipo da palavra (verbo, adjetivo, etc.), e retorna uma tupla\n",
    "words_and_tags = nltk.pos_tag(sentence)\n",
    "words_and_tags"
   ]
  },
  {
   "cell_type": "code",
   "execution_count": 41,
   "id": "6f325b82-10e7-4118-9496-109d2185f2f1",
   "metadata": {},
   "outputs": [
    {
     "name": "stdout",
     "output_type": "stream",
     "text": [
      "Demi Moore have a devote following "
     ]
    }
   ],
   "source": [
    "for word, tag in words_and_tags:\n",
    "    lemma = lemmatizer.lemmatize(word, pos=get_wordnet_pos(tag))\n",
    "    print(lemma, end=' ')"
   ]
  },
  {
   "cell_type": "code",
   "execution_count": 42,
   "id": "0469361c-7a41-41fb-a091-7ec940f7f988",
   "metadata": {},
   "outputs": [],
   "source": [
    "# Outro exemplo\n",
    "sentence = 'The cat was following the bird as it flew by'.split()"
   ]
  },
  {
   "cell_type": "code",
   "execution_count": 43,
   "id": "e8734603-5a67-449d-8163-02d13133c815",
   "metadata": {},
   "outputs": [
    {
     "data": {
      "text/plain": [
       "[('The', 'DT'),\n",
       " ('cat', 'NN'),\n",
       " ('was', 'VBD'),\n",
       " ('following', 'VBG'),\n",
       " ('the', 'DT'),\n",
       " ('bird', 'NN'),\n",
       " ('as', 'IN'),\n",
       " ('it', 'PRP'),\n",
       " ('flew', 'VBD'),\n",
       " ('by', 'IN')]"
      ]
     },
     "execution_count": 43,
     "metadata": {},
     "output_type": "execute_result"
    }
   ],
   "source": [
    "words_and_tags = nltk.pos_tag(sentence)\n",
    "words_and_tags"
   ]
  },
  {
   "cell_type": "code",
   "execution_count": 44,
   "id": "aaa6a7ad-0826-4d18-989f-898b3a48afa9",
   "metadata": {},
   "outputs": [
    {
     "name": "stdout",
     "output_type": "stream",
     "text": [
      "The cat be follow the bird a it fly by "
     ]
    }
   ],
   "source": [
    "for word, tag in words_and_tags:\n",
    "    lemma = lemmatizer.lemmatize(word, pos=get_wordnet_pos(tag))\n",
    "    print(lemma, end=' ')"
   ]
  },
  {
   "cell_type": "code",
   "execution_count": null,
   "id": "5a78daa8-97f2-42cc-9902-08860b394011",
   "metadata": {},
   "outputs": [],
   "source": []
  }
 ],
 "metadata": {
  "kernelspec": {
   "display_name": "Python 3 (ipykernel)",
   "language": "python",
   "name": "python3"
  },
  "language_info": {
   "codemirror_mode": {
    "name": "ipython",
    "version": 3
   },
   "file_extension": ".py",
   "mimetype": "text/x-python",
   "name": "python",
   "nbconvert_exporter": "python",
   "pygments_lexer": "ipython3",
   "version": "3.12.9"
  }
 },
 "nbformat": 4,
 "nbformat_minor": 5
}
