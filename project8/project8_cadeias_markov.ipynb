{
 "cells": [
  {
   "cell_type": "markdown",
   "id": "2849b33e-3beb-4998-9a6d-391120b30167",
   "metadata": {},
   "source": [
    "# Alguns exemplos de aplicação de Cadeia de Markov"
   ]
  },
  {
   "cell_type": "markdown",
   "id": "519a6c71-9e9e-48fc-a7db-9c64d9c52989",
   "metadata": {},
   "source": [
    "## EXEMPLO 1\n",
    "\n",
    "Aqui está um exemplo fictício de uma Cadeia de Markov aplicada manualmente em Python. Vamos considerar um modelo simples de previsão do tempo com três estados:\n",
    "\n",
    "    ☀️ Ensolarado (S)\n",
    "    ☁️ Nublado (N)\n",
    "    🌧 Chuvoso (C)\n",
    "\n",
    "A matriz de transição representa as probabilidades de mudar de um estado para outro:\n",
    "\n",
    "P=[0.7 0.2 0.1,\n",
    "\n",
    "0.3 0.4 0.3,\n",
    "\n",
    "0.2 0.3 0.5]\n",
    "\n",
    "Isso significa, por exemplo, que se hoje estiver ensolarado, há 70% de chance de amanhã continuar ensolarado, 20% de chance de ficar nublado e 10% de chance de chover.\n",
    "Passo a Passo\n",
    "\n",
    "    Criamos a matriz de transição.\n",
    "    Definimos um estado inicial.\n",
    "    Simulamos a evolução do tempo aplicando a matriz de transição.\n",
    "\n",
    "Cada vez que rodamos, o resultado pode mudar, mas no longo prazo, os estados seguirão as probabilidades da matriz de transição."
   ]
  },
  {
   "cell_type": "code",
   "execution_count": 1,
   "id": "ec452f78-8c06-4e24-b140-9b3abc80dbfa",
   "metadata": {},
   "outputs": [],
   "source": [
    "import numpy as np"
   ]
  },
  {
   "cell_type": "code",
   "execution_count": 2,
   "id": "fb755acb-a763-4e5f-934a-f35cd6c500f8",
   "metadata": {},
   "outputs": [],
   "source": [
    "# Definição dos estados\n",
    "estados = [\"Ensolarado\", \"Nublado\", \"Chuvoso\"]\n",
    "\n",
    "# Matriz de transição (linhas: estado atual, colunas: próximo estado)\n",
    "P = np.array([\n",
    "    [0.7, 0.2, 0.1],  # Ensolarado -> (Ensolarado, Nublado, Chuvoso)\n",
    "    [0.3, 0.4, 0.3],  # Nublado -> (Ensolarado, Nublado, Chuvoso)\n",
    "    [0.2, 0.3, 0.5]   # Chuvoso -> (Ensolarado, Nublado, Chuvoso)\n",
    "])\n",
    "\n",
    "# Estado inicial (exemplo: começa Ensolarado)\n",
    "estado_atual = 0  # Índice do estado inicial (0 = Ensolarado)\n",
    "\n",
    "# Número de dias para simular\n",
    "num_dias = 10\n",
    "\n",
    "# Lista para armazenar a previsão do tempo\n",
    "previsao = [estados[estado_atual]]"
   ]
  },
  {
   "cell_type": "code",
   "execution_count": 3,
   "id": "c4bb261b-6ceb-43e6-b8af-433f1e2ec1fc",
   "metadata": {},
   "outputs": [],
   "source": [
    "# Simulação da Cadeia de Markov\n",
    "for _ in range(num_dias):\n",
    "    estado_atual = np.random.choice([0, 1, 2], p=P[estado_atual])\n",
    "    previsao.append(estados[estado_atual])"
   ]
  },
  {
   "cell_type": "code",
   "execution_count": 4,
   "id": "8345d857-946b-462d-944e-98169c1c4a80",
   "metadata": {},
   "outputs": [
    {
     "name": "stdout",
     "output_type": "stream",
     "text": [
      "Previsão do tempo para os próximos dias:\n",
      "Ensolarado -> Ensolarado -> Ensolarado -> Ensolarado -> Ensolarado -> Ensolarado -> Ensolarado -> Nublado -> Nublado -> Ensolarado -> Ensolarado\n"
     ]
    }
   ],
   "source": [
    "# Mostrar o resultado\n",
    "print(\"Previsão do tempo para os próximos dias:\")\n",
    "print(\" -> \".join(previsao))"
   ]
  },
  {
   "cell_type": "markdown",
   "id": "96260add-265c-4479-b66b-a07215b83053",
   "metadata": {},
   "source": [
    "## EXEMPLO 2\n",
    "Vamos criar outro exemplo prático de uma Cadeia de Markov, mas agora modelando um comportamento diferente:\n",
    "Problema: Humor de uma Pessoa\n",
    "\n",
    "Suponha que uma pessoa pode estar em três estados de humor:\n",
    "\n",
    "    Feliz (F) 😊\n",
    "    Neutro (N) 😐\n",
    "    Triste (T) 😢\n",
    "\n",
    "A matriz de transição nos diz as probabilidades de mudança de humor de um dia para o outro:\n",
    "\n",
    "P=[0.6 0.3 0.1\n",
    "\n",
    "0.4 0.4 0.2 \n",
    "\n",
    "0.2 0.3 0.5]\n",
    "\n",
    "\n",
    "Interpretação da matriz:\n",
    "\n",
    "    Se a pessoa estiver feliz (F), há:\n",
    "        60% de chance de continuar feliz,\n",
    "        30% de chance de ficar neutra,\n",
    "        10% de chance de ficar triste.\n",
    "    Se a pessoa estiver neutra (N), há:\n",
    "        40% de chance de ficar feliz,\n",
    "        40% de chance de continuar neutra,\n",
    "        20% de chance de ficar triste.\n",
    "    Se a pessoa estiver triste (T), há:\n",
    "        20% de chance de ficar feliz,\n",
    "        30% de chance de ficar neutra,\n",
    "        50% de chance de continuar triste."
   ]
  },
  {
   "cell_type": "code",
   "execution_count": 5,
   "id": "c28f018a-2764-4c60-9b31-e14f87549a5f",
   "metadata": {},
   "outputs": [
    {
     "name": "stdout",
     "output_type": "stream",
     "text": [
      "Evolução do humor nos próximos dias:\n",
      "Neutro -> Neutro -> Feliz -> Feliz -> Feliz -> Feliz -> Feliz -> Feliz -> Triste -> Triste -> Triste\n"
     ]
    }
   ],
   "source": [
    "# Definição dos estados\n",
    "estados = [\"Feliz\", \"Neutro\", \"Triste\"]\n",
    "\n",
    "# Matriz de transição (linhas: estado atual, colunas: próximo estado)\n",
    "P = np.array([\n",
    "    [0.6, 0.3, 0.1],  # Feliz -> (Feliz, Neutro, Triste)\n",
    "    [0.4, 0.4, 0.2],  # Neutro -> (Feliz, Neutro, Triste)\n",
    "    [0.2, 0.3, 0.5]   # Triste -> (Feliz, Neutro, Triste)\n",
    "])\n",
    "\n",
    "# Estado inicial (exemplo: começa Neutro)\n",
    "estado_atual = 1  # Índice do estado inicial (1 = Neutro)\n",
    "\n",
    "# Número de dias para simular\n",
    "num_dias = 10\n",
    "\n",
    "# Lista para armazenar a sequência de humores\n",
    "humores = [estados[estado_atual]]\n",
    "\n",
    "# Simulação da Cadeia de Markov\n",
    "for _ in range(num_dias):\n",
    "    estado_atual = np.random.choice([0, 1, 2], p=P[estado_atual])  # Escolhe o próximo estado\n",
    "    humores.append(estados[estado_atual])\n",
    "\n",
    "# Mostrar o resultado\n",
    "print(\"Evolução do humor nos próximos dias:\")\n",
    "print(\" -> \".join(humores))\n"
   ]
  },
  {
   "cell_type": "code",
   "execution_count": null,
   "id": "5cd1a1d7-c51a-412b-a486-7afb84d7352b",
   "metadata": {},
   "outputs": [],
   "source": []
  }
 ],
 "metadata": {
  "kernelspec": {
   "display_name": "Python 3 (ipykernel)",
   "language": "python",
   "name": "python3"
  },
  "language_info": {
   "codemirror_mode": {
    "name": "ipython",
    "version": 3
   },
   "file_extension": ".py",
   "mimetype": "text/x-python",
   "name": "python",
   "nbconvert_exporter": "python",
   "pygments_lexer": "ipython3",
   "version": "3.11.11"
  }
 },
 "nbformat": 4,
 "nbformat_minor": 5
}
