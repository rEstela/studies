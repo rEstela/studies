{
 "cells": [
  {
   "cell_type": "markdown",
   "id": "69026933-d505-47fc-9a32-0e311003c69a",
   "metadata": {},
   "source": [
    "# Count Vectorizer (variação do anterior)\n",
    "\n",
    "## Comparando Técnicas de NLP: Stemming, Lemmatization e Stopwords\n",
    "\n",
    "Este notebook avalia diferentes abordagens de pré-processamento de texto para classificação de documentos, comparando a performance de um classificador Naïve Bayes ao usar diferentes técnicas: **remoção de stopwords**, **lemmatização**, **stemming** e **tokenização simples**.\n",
    "\n",
    "## 📌 O que foi feito\n",
    "1. **Carregamento e preparação dos dados**:\n",
    "   - Utilizamos o dataset `bbc_text_cls.csv`, que contém textos categorizados por tópicos.\n",
    "   - Separação em treino e teste.\n",
    "2. **Criação de representações textuais**:\n",
    "   - Vetorização com `CountVectorizer`.\n",
    "   - Aplicação de diferentes técnicas de pré-processamento:\n",
    "     - **Sem stopwords** (CountVectorizer padrão)\n",
    "     - **Removendo stopwords** (`stop_words='english'`)\n",
    "     - **Lemmatização** (usando `WordNetLemmatizer`)\n",
    "     - **Stemming** (usando `PorterStemmer`)\n",
    "     - **Tokenização simples** (usando `split()`)\n",
    "3. **Treinamento e avaliação do modelo**:\n",
    "   - Classificação com Naïve Bayes (`MultinomialNB`).\n",
    "   - Armazenamento dos resultados para cada técnica.\n",
    "   - Comparação visual das performances.\n",
    "\n",
    "## 📌 Dependências\n",
    "- Python 3.x\n",
    "- Pandas\n",
    "- NumPy\n",
    "- Scikit-learn\n",
    "- NLTK\n"
   ]
  },
  {
   "cell_type": "code",
   "execution_count": 1,
   "id": "7df5c080-d69b-442a-a965-7971d9176c13",
   "metadata": {},
   "outputs": [],
   "source": [
    "import numpy as np\n",
    "import pandas as pd\n",
    "import matplotlib.pyplot as plt\n",
    "from sklearn.feature_extraction.text import CountVectorizer\n",
    "from sklearn.naive_bayes import MultinomialNB\n",
    "from sklearn.model_selection import train_test_split\n",
    "\n",
    "import nltk\n",
    "from nltk import word_tokenize\n",
    "from nltk.stem import WordNetLemmatizer, PorterStemmer\n",
    "from nltk.corpus import wordnet"
   ]
  },
  {
   "cell_type": "code",
   "execution_count": 2,
   "id": "ac910643-cca0-4612-9dc3-0f0c0fdc35a4",
   "metadata": {},
   "outputs": [
    {
     "name": "stderr",
     "output_type": "stream",
     "text": [
      "[nltk_data] Downloading package wordnet to\n",
      "[nltk_data]     C:\\Users\\Estela\\AppData\\Roaming\\nltk_data...\n",
      "[nltk_data]   Package wordnet is already up-to-date!\n",
      "[nltk_data] Downloading package punkt to\n",
      "[nltk_data]     C:\\Users\\Estela\\AppData\\Roaming\\nltk_data...\n",
      "[nltk_data]   Package punkt is already up-to-date!\n",
      "[nltk_data] Downloading package averaged_perceptron_tagger to\n",
      "[nltk_data]     C:\\Users\\Estela\\AppData\\Roaming\\nltk_data...\n",
      "[nltk_data]   Package averaged_perceptron_tagger is already up-to-\n",
      "[nltk_data]       date!\n",
      "[nltk_data] Downloading package omw-1.4 to\n",
      "[nltk_data]     C:\\Users\\Estela\\AppData\\Roaming\\nltk_data...\n",
      "[nltk_data]   Package omw-1.4 is already up-to-date!\n"
     ]
    },
    {
     "data": {
      "text/plain": [
       "True"
      ]
     },
     "execution_count": 2,
     "metadata": {},
     "output_type": "execute_result"
    }
   ],
   "source": [
    "nltk.download(\"wordnet\")\n",
    "nltk.download('punkt')\n",
    "nltk.download('averaged_perceptron_tagger')\n",
    "nltk.download('omw-1.4')"
   ]
  },
  {
   "cell_type": "code",
   "execution_count": 3,
   "id": "59002e8b-cfac-4581-8359-4090cd8f582f",
   "metadata": {},
   "outputs": [],
   "source": [
    "df = pd.read_csv('bbc_text_cls.csv')\n",
    "inputs = df['text']\n",
    "labels = df['labels']"
   ]
  },
  {
   "cell_type": "code",
   "execution_count": 4,
   "id": "b9282eb0-dd4c-4e3e-90cf-5ce9e0995a09",
   "metadata": {},
   "outputs": [],
   "source": [
    "inputs_train, inputs_test, Ytrain, Ytest = train_test_split(inputs, labels, random_state=123)\n",
    "\n",
    "results = {}"
   ]
  },
  {
   "cell_type": "code",
   "execution_count": 5,
   "id": "14e3f52c-cfe9-4fcf-b9c2-93bab9064865",
   "metadata": {},
   "outputs": [],
   "source": [
    "def evaluate_model(name, vectorizer):\n",
    "    Xtrain = vectorizer.fit_transform(inputs_train)\n",
    "    Xtest = vectorizer.transform(inputs_test)\n",
    "    model = MultinomialNB()\n",
    "    model.fit(Xtrain, Ytrain)\n",
    "    train_score = model.score(Xtrain, Ytrain)\n",
    "    test_score = model.score(Xtest, Ytest)\n",
    "    results[name] = {'train': train_score, 'test': test_score}\n",
    "    print(f\"{name} - Train Score: {train_score:.4f}, Test Score: {test_score:.4f}\")"
   ]
  },
  {
   "cell_type": "code",
   "execution_count": 6,
   "id": "ced528f5-4a65-48a1-ab35-be4368965697",
   "metadata": {},
   "outputs": [
    {
     "name": "stdout",
     "output_type": "stream",
     "text": [
      "Sem pré-processamento - Train Score: 0.9922, Test Score: 0.9713\n"
     ]
    }
   ],
   "source": [
    "# Métodos de vetorização\n",
    "evaluate_model(\"Sem pré-processamento\", CountVectorizer())"
   ]
  },
  {
   "cell_type": "code",
   "execution_count": 7,
   "id": "bf464326-79af-4761-86c3-c2b781d16cea",
   "metadata": {},
   "outputs": [
    {
     "name": "stdout",
     "output_type": "stream",
     "text": [
      "Removendo stopwords - Train Score: 0.9928, Test Score: 0.9767\n"
     ]
    }
   ],
   "source": [
    "evaluate_model(\"Removendo stopwords\", CountVectorizer(stop_words='english'))"
   ]
  },
  {
   "cell_type": "code",
   "execution_count": 8,
   "id": "14ad7e2c-4d79-49c5-98d6-a571992e58e0",
   "metadata": {},
   "outputs": [],
   "source": [
    "def get_wordnet_pos(treebank_tag):\n",
    "    if treebank_tag.startswith('J'):\n",
    "        return wordnet.ADJ\n",
    "    elif treebank_tag.startswith('V'):\n",
    "        return wordnet.VERB\n",
    "    elif treebank_tag.startswith('N'):\n",
    "        return wordnet.NOUN\n",
    "    elif treebank_tag.startswith('R'):\n",
    "        return wordnet.ADV\n",
    "    else:\n",
    "        return wordnet.NOUN"
   ]
  },
  {
   "cell_type": "code",
   "execution_count": 9,
   "id": "cf3513ce-7697-4b55-89ea-a208ce4a5382",
   "metadata": {},
   "outputs": [],
   "source": [
    "class LemmaTokenizer:\n",
    "    def __init__(self):\n",
    "        self.wnl = WordNetLemmatizer()\n",
    "    def __call__(self, doc):\n",
    "        tokens = word_tokenize(doc)\n",
    "        words_and_tags = nltk.pos_tag(tokens)\n",
    "        return [self.wnl.lemmatize(word, pos=get_wordnet_pos(tag)) for word, tag in words_and_tags]"
   ]
  },
  {
   "cell_type": "code",
   "execution_count": 10,
   "id": "21b6c53b-e672-4961-9184-9739bd1a00ed",
   "metadata": {},
   "outputs": [
    {
     "name": "stderr",
     "output_type": "stream",
     "text": [
      "C:\\Users\\Estela\\anaconda3\\envs\\studies\\Lib\\site-packages\\sklearn\\feature_extraction\\text.py:517: UserWarning: The parameter 'token_pattern' will not be used since 'tokenizer' is not None'\n",
      "  warnings.warn(\n"
     ]
    },
    {
     "name": "stdout",
     "output_type": "stream",
     "text": [
      "Lemmatização - Train Score: 0.9922, Test Score: 0.9677\n"
     ]
    }
   ],
   "source": [
    "evaluate_model(\"Lemmatização\", CountVectorizer(tokenizer=LemmaTokenizer()))"
   ]
  },
  {
   "cell_type": "code",
   "execution_count": 11,
   "id": "c5b107a4-bdf0-4867-97c2-25096cadd75f",
   "metadata": {},
   "outputs": [],
   "source": [
    "class StemTokenizer:\n",
    "    def __init__(self):\n",
    "        self.porter = PorterStemmer()\n",
    "    def __call__(self, doc):\n",
    "        tokens = word_tokenize(doc)\n",
    "        return [self.porter.stem(t) for t in tokens]"
   ]
  },
  {
   "cell_type": "code",
   "execution_count": 12,
   "id": "d89c58f7-7fde-4b8c-822f-a89d345cc67b",
   "metadata": {},
   "outputs": [
    {
     "name": "stderr",
     "output_type": "stream",
     "text": [
      "C:\\Users\\Estela\\anaconda3\\envs\\studies\\Lib\\site-packages\\sklearn\\feature_extraction\\text.py:517: UserWarning: The parameter 'token_pattern' will not be used since 'tokenizer' is not None'\n",
      "  warnings.warn(\n"
     ]
    },
    {
     "name": "stdout",
     "output_type": "stream",
     "text": [
      "Stemming - Train Score: 0.9892, Test Score: 0.9695\n"
     ]
    }
   ],
   "source": [
    "evaluate_model(\"Stemming\", CountVectorizer(tokenizer=StemTokenizer()))"
   ]
  },
  {
   "cell_type": "code",
   "execution_count": 13,
   "id": "d2fc746c-82f4-45f0-8820-7a291e95519f",
   "metadata": {},
   "outputs": [],
   "source": [
    "def simple_tokenizer(s):\n",
    "    return s.split()"
   ]
  },
  {
   "cell_type": "code",
   "execution_count": 14,
   "id": "147cb5e5-39db-4973-a279-4854f457433f",
   "metadata": {},
   "outputs": [
    {
     "name": "stderr",
     "output_type": "stream",
     "text": [
      "C:\\Users\\Estela\\anaconda3\\envs\\studies\\Lib\\site-packages\\sklearn\\feature_extraction\\text.py:517: UserWarning: The parameter 'token_pattern' will not be used since 'tokenizer' is not None'\n",
      "  warnings.warn(\n"
     ]
    },
    {
     "name": "stdout",
     "output_type": "stream",
     "text": [
      "Tokenização simples - Train Score: 0.9952, Test Score: 0.9713\n"
     ]
    }
   ],
   "source": [
    "evaluate_model(\"Tokenização simples\", CountVectorizer(tokenizer=simple_tokenizer))"
   ]
  },
  {
   "cell_type": "code",
   "execution_count": 15,
   "id": "a1edd0e5-18c4-4c95-9a3b-9defd07d1739",
   "metadata": {},
   "outputs": [
    {
     "data": {
      "image/png": "[encoded data removed]",
      "text/plain": [
       "<Figure size 1000x500 with 1 Axes>"
      ]
     },
     "metadata": {},
     "output_type": "display_data"
    }
   ],
   "source": [
    "# Criando gráfico comparativo\n",
    "labels = list(results.keys())\n",
    "train_scores = [results[k]['train'] for k in labels]\n",
    "test_scores = [results[k]['test'] for k in labels]\n",
    "\n",
    "x = np.arange(len(labels))\n",
    "width = 0.35\n",
    "\n",
    "fig, ax = plt.subplots(figsize=(10, 5))\n",
    "rects1 = ax.bar(x - width/2, train_scores, width, label='Train Score')\n",
    "rects2 = ax.bar(x + width/2, test_scores, width, label='Test Score')\n",
    "\n",
    "ax.set_ylabel('Acurácia')\n",
    "ax.set_title('Comparação de métodos de pré-processamento em NLP')\n",
    "ax.set_xticks(x)\n",
    "ax.set_xticklabels(labels, rotation=45, ha='right')\n",
    "ax.legend()\n",
    "\n",
    "plt.show()"
   ]
  },
  {
   "cell_type": "code",
   "execution_count": null,
   "id": "b4209784-9083-45f3-8e83-9e6f11b4009c",
   "metadata": {},
   "outputs": [],
   "source": []
  }
 ],
 "metadata": {
  "kernelspec": {
   "display_name": "Python 3 (ipykernel)",
   "language": "python",
   "name": "python3"
  },
  "language_info": {
   "codemirror_mode": {
    "name": "ipython",
    "version": 3
   },
   "file_extension": ".py",
   "mimetype": "text/x-python",
   "name": "python",
   "nbconvert_exporter": "python",
   "pygments_lexer": "ipython3",
   "version": "3.12.9"
  }
 },
 "nbformat": 4,
 "nbformat_minor": 5
}
