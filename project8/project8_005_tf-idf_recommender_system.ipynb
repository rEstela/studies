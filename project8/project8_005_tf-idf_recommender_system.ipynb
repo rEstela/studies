{
 "cells": [
  {
   "cell_type": "markdown",
   "id": "81f4a66d-506c-49b4-8fcc-13488f379995",
   "metadata": {},
   "source": [
    "# Sistema de Recomendacao de Filmes\n",
    "\n",
    "Este projeto implementa um sistema de recomendacao de filmes utilizando TF-IDF para calcular a similaridade entre os filmes com base em seus generos e palavras-chave.\n",
    "\n",
    "## 📌 Descricao\n",
    "\n",
    "O notebook carrega um dataset contendo informacoes sobre filmes e aplica TF-IDF para extrair e comparar as caracteristicas textuais de cada filme. Com isso, e possivel recomendar filmes semelhantes com base na similaridade de cosseno entre os vetores TF-IDF.\n",
    "\n",
    "## 📂 Dados\n",
    "\n",
    "O dataset utilizado e tmdb_5000_movies.csv, que contem informacoes sobre diversos filmes, incluindo:\n",
    "\n",
    "title: Titulo do filme\n",
    "\n",
    "genres: Generos do filme em formato JSON\n",
    "\n",
    "keywords: Palavras-chave associadas ao filme em formato JSON"
   ]
  },
  {
   "cell_type": "code",
   "execution_count": 1,
   "id": "17015d9b-1b85-4305-b901-f51dce916f70",
   "metadata": {},
   "outputs": [],
   "source": [
    "# Importar bibliotecas\n",
    "import pandas as pd\n",
    "import json\n",
    "from sklearn.feature_extraction.text import TfidfVectorizer\n",
    "from sklearn.metrics.pairwise import cosine_similarity"
   ]
  },
  {
   "cell_type": "code",
   "execution_count": 2,
   "id": "14c411bb-582a-4358-9c1e-87714a579d6f",
   "metadata": {},
   "outputs": [],
   "source": [
    "# Carregar dataset\n",
    "df = pd.read_csv('tmdb_5000_movies.csv')"
   ]
  },
  {
   "cell_type": "code",
   "execution_count": 3,
   "id": "e646b823-e9a5-4029-8875-7ca5d93ab26e",
   "metadata": {},
   "outputs": [],
   "source": [
    "# Preprocessamento dos dados\n",
    "\"\"\"\n",
    "Transformar os generos e palavras-chaves de cada filme em uma única string, removendo espaços e caracters desnecessarios\n",
    "\"\"\"\n",
    "def genres_and_keywords_to_string(row):\n",
    "    genres = ' '.join(j['name'].replace(\" \", \"\") for j in json.loads(row['genres']))\n",
    "    keywords = ' '.join(j['name'].replace(\" \", \"\") for j in json.loads(row['keywords']))\n",
    "    return f\"{genres} {keywords}\"\n",
    "\n",
    "df['string'] = df.apply(genres_and_keywords_to_string, axis=1)"
   ]
  },
  {
   "cell_type": "code",
   "execution_count": 4,
   "id": "63ebb0a2-5d26-4e8b-8ead-6dddb074b943",
   "metadata": {},
   "outputs": [],
   "source": [
    "# Vetorizacao com TF-IDF\n",
    "\"\"\"\n",
    "Convertendo os textos em vetores numéricos usando TfidfVectorizer\n",
    "\"\"\"\n",
    "tfidf = TfidfVectorizer(max_features=2000)\n",
    "X = tfidf.fit_transform(df['string'])"
   ]
  },
  {
   "cell_type": "code",
   "execution_count": 5,
   "id": "27afb249-0cd6-475f-aec3-fc7fe3b65f95",
   "metadata": {},
   "outputs": [],
   "source": [
    "# Criacao de um mapeamento de filmes\n",
    "\"\"\"\n",
    "Criamos um mapeamento entre o titulo do filme e seu respectivo indice no dataframe\n",
    "\"\"\"\n",
    "movie2idx = pd.Series(df.index, index=df['title']).drop_duplicates()"
   ]
  },
  {
   "cell_type": "code",
   "execution_count": 6,
   "id": "4f9940d0-129d-47ac-876b-af52ace4b862",
   "metadata": {},
   "outputs": [],
   "source": [
    "# Funcao de recomendacao\n",
    "\"\"\"\n",
    "A funcao recebe um titulo de filme, calcula a similaridade com os demais e retorna os 5 filmes mais similares\n",
    "\"\"\"\n",
    "\n",
    "def recommend(title):\n",
    "    if title not in movie2idx:\n",
    "        return \"Filme nao encontrado no banco de dados.\"\n",
    "    \n",
    "    idx = movie2idx[title]\n",
    "    query = X[idx]\n",
    "    scores = cosine_similarity(query, X).flatten()\n",
    "    recommended_idx = scores.argsort()[-6:-1][::-1]  # Pegamos os 5 mais similares (excluindo o proprio filme)\n",
    "    \n",
    "    return df['title'].iloc[recommended_idx].tolist()"
   ]
  },
  {
   "cell_type": "code",
   "execution_count": 8,
   "id": "e702d647-94ca-4e0d-8b0a-06229c39c0c2",
   "metadata": {},
   "outputs": [
    {
     "name": "stdout",
     "output_type": "stream",
     "text": [
      "Recomendacoes para Avatar:\n",
      "['Star Trek Into Darkness', 'Barbarella', 'A Monster in Paris', 'Jupiter Ascending', 'Cargo']\n"
     ]
    }
   ],
   "source": [
    "# Exemplo de uso\n",
    "name = 'Avatar'\n",
    "print(f'Recomendacoes para {name}:')\n",
    "print(recommend(name))"
   ]
  },
  {
   "cell_type": "code",
   "execution_count": null,
   "id": "830a516b-14e6-492e-99de-b212862591f9",
   "metadata": {},
   "outputs": [],
   "source": []
  }
 ],
 "metadata": {
  "kernelspec": {
   "display_name": "Python 3 (ipykernel)",
   "language": "python",
   "name": "python3"
  },
  "language_info": {
   "codemirror_mode": {
    "name": "ipython",
    "version": 3
   },
   "file_extension": ".py",
   "mimetype": "text/x-python",
   "name": "python",
   "nbconvert_exporter": "python",
   "pygments_lexer": "ipython3",
   "version": "3.11.11"
  }
 },
 "nbformat": 4,
 "nbformat_minor": 5
}
